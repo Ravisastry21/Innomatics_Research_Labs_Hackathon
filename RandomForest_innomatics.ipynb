{
 "cells": [
  {
   "cell_type": "code",
   "execution_count": 1,
   "id": "78ed8d3e",
   "metadata": {},
   "outputs": [],
   "source": [
    "import pandas as pd\n",
    "from sklearn.model_selection import train_test_split\n",
    "from sklearn.ensemble import RandomForestRegressor\n",
    "from sklearn.metrics import r2_score"
   ]
  },
  {
   "cell_type": "code",
   "execution_count": 2,
   "id": "cfe953db",
   "metadata": {},
   "outputs": [],
   "source": [
    "lm = pd.read_csv('Uber.csv')"
   ]
  },
  {
   "cell_type": "code",
   "execution_count": 3,
   "id": "f354fc03",
   "metadata": {},
   "outputs": [
    {
     "data": {
      "text/plain": [
       "ride_id              0\n",
       "fare_amount          0\n",
       "pickup_datetime      0\n",
       "pickup_longitude     0\n",
       "pickup_latitude      0\n",
       "dropoff_longitude    1\n",
       "dropoff_latitude     1\n",
       "passenger_count      0\n",
       "dtype: int64"
      ]
     },
     "execution_count": 3,
     "metadata": {},
     "output_type": "execute_result"
    }
   ],
   "source": [
    "# checking for null\n",
    "lm.isnull().sum()"
   ]
  },
  {
   "cell_type": "code",
   "execution_count": 4,
   "id": "30b0ea1a",
   "metadata": {},
   "outputs": [],
   "source": [
    "#working with null values\n",
    "numeric_columns = lm.select_dtypes(include=['number']).columns\n",
    "categorical_columns = lm.select_dtypes(exclude=['number']).columns\n",
    "\n",
    "for column in numeric_columns:\n",
    "    lm[column].fillna(lm[column].mean(), inplace=True)\n",
    "\n",
    "for column in categorical_columns:\n",
    "    lm[column].fillna(lm[column].mode()[0], inplace=True)"
   ]
  },
  {
   "cell_type": "code",
   "execution_count": 5,
   "id": "4ac09580",
   "metadata": {},
   "outputs": [
    {
     "data": {
      "text/plain": [
       "ride_id              0\n",
       "fare_amount          0\n",
       "pickup_datetime      0\n",
       "pickup_longitude     0\n",
       "pickup_latitude      0\n",
       "dropoff_longitude    0\n",
       "dropoff_latitude     0\n",
       "passenger_count      0\n",
       "dtype: int64"
      ]
     },
     "execution_count": 5,
     "metadata": {},
     "output_type": "execute_result"
    }
   ],
   "source": [
    "lm.isnull().sum()"
   ]
  },
  {
   "cell_type": "code",
   "execution_count": 6,
   "id": "5a841d10",
   "metadata": {},
   "outputs": [],
   "source": [
    "features = ['pickup_longitude', 'pickup_latitude', 'dropoff_longitude', 'dropoff_latitude', 'passenger_count']\n",
    "target = 'fare_amount'"
   ]
  },
  {
   "cell_type": "code",
   "execution_count": 7,
   "id": "dc740ff1",
   "metadata": {},
   "outputs": [],
   "source": [
    "# train test split\n",
    "X_train, X_test, y_train, y_test = train_test_split(lm[features], lm[target], test_size=0.3, random_state=42)"
   ]
  },
  {
   "cell_type": "code",
   "execution_count": 8,
   "id": "762bf569",
   "metadata": {},
   "outputs": [
    {
     "data": {
      "text/plain": [
       "RandomForestRegressor(random_state=42)"
      ]
     },
     "execution_count": 8,
     "metadata": {},
     "output_type": "execute_result"
    }
   ],
   "source": [
    "model = RandomForestRegressor(random_state=42)\n",
    "model.fit(X_train, y_train)"
   ]
  },
  {
   "cell_type": "code",
   "execution_count": 9,
   "id": "d2227ecd",
   "metadata": {},
   "outputs": [],
   "source": [
    "y_pred = model.predict(X_test)"
   ]
  },
  {
   "cell_type": "code",
   "execution_count": 10,
   "id": "aacc2342",
   "metadata": {},
   "outputs": [
    {
     "name": "stdout",
     "output_type": "stream",
     "text": [
      "0.7045215777634306\n"
     ]
    }
   ],
   "source": [
    "r_squared = r2_score(y_test, y_pred)\n",
    "print(r_squared)"
   ]
  },
  {
   "cell_type": "code",
   "execution_count": 11,
   "id": "03608987",
   "metadata": {},
   "outputs": [],
   "source": [
    "n = len(y_test)\n",
    "p = len(features)\n",
    "adjusted_r_squared = 1 - ((1 - r_squared) * (n - 1) / (n - p - 1))"
   ]
  },
  {
   "cell_type": "code",
   "execution_count": 12,
   "id": "a0124bdf",
   "metadata": {},
   "outputs": [
    {
     "name": "stdout",
     "output_type": "stream",
     "text": [
      "R-squared: 0.7045215777634306\n",
      "Adjusted R-squared: 0.7044969520990112\n"
     ]
    }
   ],
   "source": [
    "print(f\"R-squared: {r_squared}\")\n",
    "print(f\"Adjusted R-squared: {adjusted_r_squared}\")"
   ]
  },
  {
   "cell_type": "code",
   "execution_count": 13,
   "id": "22d8d990",
   "metadata": {},
   "outputs": [],
   "source": [
    "new_data = {\n",
    "    'pickup_longitude': -73.9808,\n",
    "    'pickup_latitude': 40.7851,\n",
    "    'dropoff_longitude': -73.9647,\n",
    "    'dropoff_latitude': 40.7580,\n",
    "    'passenger_count': 2\n",
    "}\n",
    "\n",
    "# Create a DataFrame from the new data\n",
    "new_data_df = pd.DataFrame([new_data])\n",
    "\n",
    "# Use the trained model to predict the fare amount for the new data\n",
    "predicted_fare = model.predict(new_data_df)"
   ]
  },
  {
   "cell_type": "code",
   "execution_count": 14,
   "id": "02ca2c17",
   "metadata": {},
   "outputs": [
    {
     "name": "stdout",
     "output_type": "stream",
     "text": [
      "Predicted fare: [12.849]\n"
     ]
    }
   ],
   "source": [
    "print(\"Predicted fare: \" + str(predicted_fare))"
   ]
  },
  {
   "cell_type": "code",
   "execution_count": null,
   "id": "f94ccad4",
   "metadata": {},
   "outputs": [],
   "source": []
  }
 ],
 "metadata": {
  "kernelspec": {
   "display_name": "Python 3 (ipykernel)",
   "language": "python",
   "name": "python3"
  },
  "language_info": {
   "codemirror_mode": {
    "name": "ipython",
    "version": 3
   },
   "file_extension": ".py",
   "mimetype": "text/x-python",
   "name": "python",
   "nbconvert_exporter": "python",
   "pygments_lexer": "ipython3",
   "version": "3.9.12"
  }
 },
 "nbformat": 4,
 "nbformat_minor": 5
}
