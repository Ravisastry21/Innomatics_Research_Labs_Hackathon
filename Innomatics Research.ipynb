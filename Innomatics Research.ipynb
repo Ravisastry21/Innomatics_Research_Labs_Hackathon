{
 "cells": [
  {
   "cell_type": "code",
   "execution_count": 1,
   "id": "97dcfdb4",
   "metadata": {},
   "outputs": [],
   "source": [
    "import pandas as pd\n",
    "import numpy as np\n",
    "from matplotlib import pyplot as plt\n",
    "import seaborn as sns\n",
    "import statsmodels.api as sm\n",
    "from sklearn.model_selection import train_test_split\n",
    "from sklearn.metrics import r2_score,mean_squared_error"
   ]
  },
  {
   "cell_type": "code",
   "execution_count": 4,
   "id": "1349dbfb",
   "metadata": {},
   "outputs": [],
   "source": [
    "#loading the dataset\n",
    "pred=pd.read_csv(\"Uber.csv\")"
   ]
  },
  {
   "cell_type": "code",
   "execution_count": 8,
   "id": "f911fde4",
   "metadata": {},
   "outputs": [
    {
     "data": {
      "text/plain": [
       "(200000, 8)"
      ]
     },
     "execution_count": 8,
     "metadata": {},
     "output_type": "execute_result"
    }
   ],
   "source": [
    "#finding Data Shape\n",
    "pred.shape"
   ]
  },
  {
   "cell_type": "code",
   "execution_count": 11,
   "id": "8bf2bb09",
   "metadata": {},
   "outputs": [
    {
     "data": {
      "text/plain": [
       "2"
      ]
     },
     "execution_count": 11,
     "metadata": {},
     "output_type": "execute_result"
    }
   ],
   "source": [
    "#find integer columns\n",
    "col=pred.select_dtypes(include=['int']).columns\n",
    "len(col)"
   ]
  },
  {
   "cell_type": "code",
   "execution_count": 12,
   "id": "ba45edb3",
   "metadata": {},
   "outputs": [
    {
     "data": {
      "text/html": [
       "<div>\n",
       "<style scoped>\n",
       "    .dataframe tbody tr th:only-of-type {\n",
       "        vertical-align: middle;\n",
       "    }\n",
       "\n",
       "    .dataframe tbody tr th {\n",
       "        vertical-align: top;\n",
       "    }\n",
       "\n",
       "    .dataframe thead th {\n",
       "        text-align: right;\n",
       "    }\n",
       "</style>\n",
       "<table border=\"1\" class=\"dataframe\">\n",
       "  <thead>\n",
       "    <tr style=\"text-align: right;\">\n",
       "      <th></th>\n",
       "      <th>ride_id</th>\n",
       "      <th>fare_amount</th>\n",
       "      <th>pickup_datetime</th>\n",
       "      <th>pickup_longitude</th>\n",
       "      <th>pickup_latitude</th>\n",
       "      <th>dropoff_longitude</th>\n",
       "      <th>dropoff_latitude</th>\n",
       "      <th>passenger_count</th>\n",
       "    </tr>\n",
       "  </thead>\n",
       "  <tbody>\n",
       "    <tr>\n",
       "      <th>0</th>\n",
       "      <td>False</td>\n",
       "      <td>False</td>\n",
       "      <td>False</td>\n",
       "      <td>False</td>\n",
       "      <td>False</td>\n",
       "      <td>False</td>\n",
       "      <td>False</td>\n",
       "      <td>False</td>\n",
       "    </tr>\n",
       "    <tr>\n",
       "      <th>1</th>\n",
       "      <td>False</td>\n",
       "      <td>False</td>\n",
       "      <td>False</td>\n",
       "      <td>False</td>\n",
       "      <td>False</td>\n",
       "      <td>False</td>\n",
       "      <td>False</td>\n",
       "      <td>False</td>\n",
       "    </tr>\n",
       "    <tr>\n",
       "      <th>2</th>\n",
       "      <td>False</td>\n",
       "      <td>False</td>\n",
       "      <td>False</td>\n",
       "      <td>False</td>\n",
       "      <td>False</td>\n",
       "      <td>False</td>\n",
       "      <td>False</td>\n",
       "      <td>False</td>\n",
       "    </tr>\n",
       "    <tr>\n",
       "      <th>3</th>\n",
       "      <td>False</td>\n",
       "      <td>False</td>\n",
       "      <td>False</td>\n",
       "      <td>False</td>\n",
       "      <td>False</td>\n",
       "      <td>False</td>\n",
       "      <td>False</td>\n",
       "      <td>False</td>\n",
       "    </tr>\n",
       "    <tr>\n",
       "      <th>4</th>\n",
       "      <td>False</td>\n",
       "      <td>False</td>\n",
       "      <td>False</td>\n",
       "      <td>False</td>\n",
       "      <td>False</td>\n",
       "      <td>False</td>\n",
       "      <td>False</td>\n",
       "      <td>False</td>\n",
       "    </tr>\n",
       "    <tr>\n",
       "      <th>...</th>\n",
       "      <td>...</td>\n",
       "      <td>...</td>\n",
       "      <td>...</td>\n",
       "      <td>...</td>\n",
       "      <td>...</td>\n",
       "      <td>...</td>\n",
       "      <td>...</td>\n",
       "      <td>...</td>\n",
       "    </tr>\n",
       "    <tr>\n",
       "      <th>199995</th>\n",
       "      <td>False</td>\n",
       "      <td>False</td>\n",
       "      <td>False</td>\n",
       "      <td>False</td>\n",
       "      <td>False</td>\n",
       "      <td>False</td>\n",
       "      <td>False</td>\n",
       "      <td>False</td>\n",
       "    </tr>\n",
       "    <tr>\n",
       "      <th>199996</th>\n",
       "      <td>False</td>\n",
       "      <td>False</td>\n",
       "      <td>False</td>\n",
       "      <td>False</td>\n",
       "      <td>False</td>\n",
       "      <td>False</td>\n",
       "      <td>False</td>\n",
       "      <td>False</td>\n",
       "    </tr>\n",
       "    <tr>\n",
       "      <th>199997</th>\n",
       "      <td>False</td>\n",
       "      <td>False</td>\n",
       "      <td>False</td>\n",
       "      <td>False</td>\n",
       "      <td>False</td>\n",
       "      <td>False</td>\n",
       "      <td>False</td>\n",
       "      <td>False</td>\n",
       "    </tr>\n",
       "    <tr>\n",
       "      <th>199998</th>\n",
       "      <td>False</td>\n",
       "      <td>False</td>\n",
       "      <td>False</td>\n",
       "      <td>False</td>\n",
       "      <td>False</td>\n",
       "      <td>False</td>\n",
       "      <td>False</td>\n",
       "      <td>False</td>\n",
       "    </tr>\n",
       "    <tr>\n",
       "      <th>199999</th>\n",
       "      <td>False</td>\n",
       "      <td>False</td>\n",
       "      <td>False</td>\n",
       "      <td>False</td>\n",
       "      <td>False</td>\n",
       "      <td>False</td>\n",
       "      <td>False</td>\n",
       "      <td>False</td>\n",
       "    </tr>\n",
       "  </tbody>\n",
       "</table>\n",
       "<p>200000 rows × 8 columns</p>\n",
       "</div>"
      ],
      "text/plain": [
       "        ride_id  fare_amount  pickup_datetime  pickup_longitude  \\\n",
       "0         False        False            False             False   \n",
       "1         False        False            False             False   \n",
       "2         False        False            False             False   \n",
       "3         False        False            False             False   \n",
       "4         False        False            False             False   \n",
       "...         ...          ...              ...               ...   \n",
       "199995    False        False            False             False   \n",
       "199996    False        False            False             False   \n",
       "199997    False        False            False             False   \n",
       "199998    False        False            False             False   \n",
       "199999    False        False            False             False   \n",
       "\n",
       "        pickup_latitude  dropoff_longitude  dropoff_latitude  passenger_count  \n",
       "0                 False              False             False            False  \n",
       "1                 False              False             False            False  \n",
       "2                 False              False             False            False  \n",
       "3                 False              False             False            False  \n",
       "4                 False              False             False            False  \n",
       "...                 ...                ...               ...              ...  \n",
       "199995            False              False             False            False  \n",
       "199996            False              False             False            False  \n",
       "199997            False              False             False            False  \n",
       "199998            False              False             False            False  \n",
       "199999            False              False             False            False  \n",
       "\n",
       "[200000 rows x 8 columns]"
      ]
     },
     "execution_count": 12,
     "metadata": {},
     "output_type": "execute_result"
    }
   ],
   "source": [
    "#finding null values\n",
    "pred.isnull()"
   ]
  },
  {
   "cell_type": "code",
   "execution_count": 14,
   "id": "1493992b",
   "metadata": {},
   "outputs": [
    {
     "data": {
      "text/plain": [
       "1"
      ]
     },
     "execution_count": 14,
     "metadata": {},
     "output_type": "execute_result"
    }
   ],
   "source": [
    "#missing values count\n",
    "miss=pred['dropoff_longitude'].isnull().sum()\n",
    "miss"
   ]
  },
  {
   "cell_type": "code",
   "execution_count": 17,
   "id": "0be07e83",
   "metadata": {
    "scrolled": true
   },
   "outputs": [
    {
     "name": "stdout",
     "output_type": "stream",
     "text": [
      "object\n"
     ]
    }
   ],
   "source": [
    "#finding data type\n",
    "dtyp = pred['pickup_datetime'].dtype\n",
    "print(dtyp)"
   ]
  },
  {
   "cell_type": "code",
   "execution_count": 18,
   "id": "0760de7f",
   "metadata": {},
   "outputs": [
    {
     "name": "stdout",
     "output_type": "stream",
     "text": [
      "11.359955250000626\n"
     ]
    }
   ],
   "source": [
    "pred.dropna(subset=['fare_amount'], inplace=True)\n",
    "avgf = pred['fare_amount'].mean()\n",
    "print(avgf)"
   ]
  },
  {
   "cell_type": "code",
   "execution_count": 26,
   "id": "466a5547",
   "metadata": {},
   "outputs": [
    {
     "name": "stdout",
     "output_type": "stream",
     "text": [
      "Median Haversine distance between pickup and dropoff locations: 2.1209923961833708 kilometers\n"
     ]
    }
   ],
   "source": [
    "#function to calculate Haversine distance\n",
    "def haversine(lat1, lon1, lat2, lon2):\n",
    "    # Convert latitude and longitude from degrees to radians\n",
    "    lat1, lon1, lat2, lon2 = np.radians([lat1, lon1, lat2, lon2])\n",
    "\n",
    "    #haversine formula\n",
    "    dlon = lon2 - lon1\n",
    "    dlat = lat2 - lat1\n",
    "    a = np.sin(dlat / 2) ** 2 + np.cos(lat1) * np.cos(lat2) * np.sin(dlon / 2) ** 2\n",
    "    c = 2 * np.arcsin(np.sqrt(a))\n",
    "    \n",
    "    #radius of Earth in kilometers mean value\n",
    "    r = 6371\n",
    "    \n",
    "    #calculate the distance\n",
    "    distance = c * r\n",
    "    return distance\n",
    "\n",
    "#calculate the Haversine distance for each row and store it in a new column\n",
    "pred['hd'] = pred.apply(lambda row: haversine(row['pickup_latitude'], row['pickup_longitude'], row['dropoff_latitude'], row['dropoff_longitude']), axis=1)\n",
    "\n",
    "#calculate the median Haversine distance\n",
    "mhd = pred['hd'].median()\n",
    "\n",
    "print(\"Median Haversine distance between pickup and dropoff locations: \" + str(mhd) + \" kilometers\")\n"
   ]
  },
  {
   "cell_type": "code",
   "execution_count": 27,
   "id": "1050e7e6",
   "metadata": {},
   "outputs": [
    {
     "name": "stdout",
     "output_type": "stream",
     "text": [
      "Maximum Haversine Distance: 16409.239135313164\n"
     ]
    }
   ],
   "source": [
    "max_distance = pred['haversine_distance'].max()\n",
    "\n",
    "# Print the maximum Haversine distance\n",
    "print(\"Maximum Haversine Distance:\", max_distance)"
   ]
  },
  {
   "cell_type": "code",
   "execution_count": 29,
   "id": "3a67b9a4",
   "metadata": {},
   "outputs": [
    {
     "name": "stdout",
     "output_type": "stream",
     "text": [
      "Mean 'fare_amount' for rides with 0.0 Haversine Distance: 11.585317826704578\n"
     ]
    }
   ],
   "source": [
    "zero_distance_rides = pred[pred['haversine_distance'] == 0.0]\n",
    "\n",
    "# Calculate the mean 'fare_amount' for rides with 0.0 Haversine distance\n",
    "mfzero = zero_distance_rides['fare_amount'].mean()\n",
    "\n",
    "# Print the mean fare for rides with 0.0 Haversine distance\n",
    "print(\"Mean 'fare_amount' for rides with 0.0 Haversine Distance:\", mfzero)"
   ]
  },
  {
   "cell_type": "code",
   "execution_count": 30,
   "id": "1b678c52",
   "metadata": {},
   "outputs": [
    {
     "name": "stdout",
     "output_type": "stream",
     "text": [
      "Maximum 'fare_amount' for a ride: 499.0\n"
     ]
    }
   ],
   "source": [
    "mfa = pred['fare_amount'].max()\n",
    "\n",
    "# Print the maximum 'fare_amount'\n",
    "print(\"Maximum 'fare_amount' for a ride:\", mfa)"
   ]
  },
  {
   "cell_type": "code",
   "execution_count": 31,
   "id": "97a3e8af",
   "metadata": {},
   "outputs": [
    {
     "name": "stdout",
     "output_type": "stream",
     "text": [
      "Haversine Distance for the Costliest Ride: 0.0007899213191009994\n"
     ]
    }
   ],
   "source": [
    "# Find the row with the maximum 'fare_amount'\n",
    "costliest_ride = pred[pred['fare_amount'] == pred['fare_amount'].max()]\n",
    "\n",
    "# Calculate the Haversine distance for the costliest ride\n",
    "costliest_ride_distance = haversine(costliest_ride['pickup_latitude'].values[0],\n",
    "                                     costliest_ride['pickup_longitude'].values[0],\n",
    "                                     costliest_ride['dropoff_latitude'].values[0],\n",
    "                                     costliest_ride['dropoff_longitude'].values[0])\n",
    "\n",
    "# Print the Haversine distance for the costliest ride\n",
    "print(\"Haversine Distance for the Costliest Ride:\", costliest_ride_distance)"
   ]
  },
  {
   "cell_type": "code",
   "execution_count": 32,
   "id": "43a61fbe",
   "metadata": {},
   "outputs": [
    {
     "name": "stdout",
     "output_type": "stream",
     "text": [
      "Number of rides recorded in the year 2014: 29968\n"
     ]
    }
   ],
   "source": [
    "\n",
    "# Convert the 'pickup_datetime' column to a datetime data type\n",
    "pred['pickup_datetime'] = pd.to_datetime(pred['pickup_datetime'])\n",
    "\n",
    "# Extract the year from the 'pickup_datetime' column\n",
    "pred['pickup_year'] = pred['pickup_datetime'].dt.year\n",
    "\n",
    "# Count the number of rides recorded in the year 2014\n",
    "rides_in_2014 = pred[pred['pickup_year'] == 2014]\n",
    "\n",
    "num_rides_2014 = len(rides_in_2014)\n",
    "\n",
    "print(\"Number of rides recorded in the year 2014: \" + str(num_rides_2014))\n"
   ]
  },
  {
   "cell_type": "code",
   "execution_count": 33,
   "id": "7313a34d",
   "metadata": {},
   "outputs": [
    {
     "name": "stdout",
     "output_type": "stream",
     "text": [
      "Number of rides recorded in the first quarter of 2014: 7687\n"
     ]
    }
   ],
   "source": [
    "pred['pickup_datetime'] = pd.to_datetime(pred['pickup_datetime'])\n",
    "\n",
    "# Filter for rides in the first quarter of 2014\n",
    "rides_first_quarter_2014 = pred[(pred['pickup_datetime'].dt.year == 2014) & (pred['pickup_datetime'].dt.quarter == 1)]\n",
    "\n",
    "# Count the number of rides recorded in the first quarter of 2014\n",
    "num_rides_first_quarter_2014 = len(rides_first_quarter_2014)\n",
    "\n",
    "print(\"Number of rides recorded in the first quarter of 2014: \" + str(num_rides_first_quarter_2014))"
   ]
  },
  {
   "cell_type": "code",
   "execution_count": 34,
   "id": "a7250457",
   "metadata": {},
   "outputs": [
    {
     "name": "stdout",
     "output_type": "stream",
     "text": [
      "On Thursday of September 2010, the maximum rides were recorded with a count of 457 rides.\n"
     ]
    }
   ],
   "source": [
    "rides_september_2010 = pred[(pred['pickup_datetime'].dt.year == 2010) & (pred['pickup_datetime'].dt.month == 9)]\n",
    "\n",
    "# Calculate the day of the week and count the rides for each day\n",
    "day_of_week_counts = rides_september_2010['pickup_datetime'].dt.day_name().value_counts()\n",
    "\n",
    "# Find the day with the maximum rides\n",
    "max_rides_day = day_of_week_counts.idxmax()\n",
    "max_rides_count = day_of_week_counts.max()\n",
    "\n",
    "print(\"On \" + max_rides_day + \" of September 2010, the maximum rides were recorded with a count of \" + str(max_rides_count) + \" rides.\")\n"
   ]
  },
  {
   "cell_type": "code",
   "execution_count": 40,
   "id": "c0a057b7",
   "metadata": {},
   "outputs": [],
   "source": [
    "#working with null values\n",
    "numeric_columns = pred.select_dtypes(include=['number']).columns\n",
    "categorical_columns = pred.select_dtypes(exclude=['number']).columns\n",
    "\n",
    "for column in numeric_columns:\n",
    "    pred[column].fillna(pred[column].mean(), inplace=True)\n",
    "\n",
    "for column in categorical_columns:\n",
    "    pred[column].fillna(pred[column].mode()[0], inplace=True)"
   ]
  },
  {
   "cell_type": "code",
   "execution_count": 38,
   "id": "354fe9a9",
   "metadata": {},
   "outputs": [
    {
     "data": {
      "text/plain": [
       "ride_id               0\n",
       "fare_amount           0\n",
       "pickup_datetime       0\n",
       "pickup_longitude      0\n",
       "pickup_latitude       0\n",
       "dropoff_longitude     0\n",
       "dropoff_latitude      0\n",
       "passenger_count       0\n",
       "haversine_distance    0\n",
       "pickup_year           0\n",
       "dtype: int64"
      ]
     },
     "execution_count": 38,
     "metadata": {},
     "output_type": "execute_result"
    }
   ],
   "source": [
    "pred.isnull().sum()"
   ]
  },
  {
   "cell_type": "code",
   "execution_count": null,
   "id": "cbbb0e77",
   "metadata": {},
   "outputs": [],
   "source": []
  }
 ],
 "metadata": {
  "kernelspec": {
   "display_name": "Python 3 (ipykernel)",
   "language": "python",
   "name": "python3"
  },
  "language_info": {
   "codemirror_mode": {
    "name": "ipython",
    "version": 3
   },
   "file_extension": ".py",
   "mimetype": "text/x-python",
   "name": "python",
   "nbconvert_exporter": "python",
   "pygments_lexer": "ipython3",
   "version": "3.9.12"
  }
 },
 "nbformat": 4,
 "nbformat_minor": 5
}
